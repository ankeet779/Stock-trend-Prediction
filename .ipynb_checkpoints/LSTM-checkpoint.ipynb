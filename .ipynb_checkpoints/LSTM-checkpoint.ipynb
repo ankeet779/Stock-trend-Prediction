{
 "cells": [
  {
   "cell_type": "markdown",
   "id": "4eab4554-57c5-4222-bb0a-665715ff6984",
   "metadata": {},
   "source": [
    "long short_term Memory"
   ]
  },
  {
   "cell_type": "code",
   "execution_count": null,
   "id": "89bac26d-b9d7-4693-bc65-7caa97b5f4f6",
   "metadata": {},
   "outputs": [],
   "source": [
    "import numpy as np\n",
    "import pandas as pd\n",
    "import matplotlib.pyplot as plt\n",
    "import yfinance as yf"
   ]
  },
  {
   "cell_type": "code",
   "execution_count": null,
   "id": "b3d32441-dd32-45e6-b53f-320fb6b3c9f2",
   "metadata": {},
   "outputs": [],
   "source": [
    "start = '2012-01-01'\n",
    "end = '2022-01-01'\n",
    "stock = 'GOOG'\n",
    "data = yf.download(stock, start, end)\n"
   ]
  },
  {
   "cell_type": "code",
   "execution_count": null,
   "id": "561065af-c7e9-4968-8072-e5afbc5fcec9",
   "metadata": {},
   "outputs": [],
   "source": [
    "data.reset_index(inplace = True)\n"
   ]
  },
  {
   "cell_type": "code",
   "execution_count": null,
   "id": "81bdeba0-5280-49e4-a4d9-0f95a320b050",
   "metadata": {},
   "outputs": [],
   "source": [
    "data"
   ]
  },
  {
   "cell_type": "markdown",
   "id": "44c1b476-2cd2-46c3-84b0-e72af49ff267",
   "metadata": {},
   "source": [
    "MACD-100 days"
   ]
  },
  {
   "cell_type": "code",
   "execution_count": null,
   "id": "9ceca284-a4ed-4608-9034-042c074ebf32",
   "metadata": {},
   "outputs": [],
   "source": [
    "ma_100_days = data.Close.rolling(100).mean()"
   ]
  },
  {
   "cell_type": "code",
   "execution_count": null,
   "id": "3b8e3f6a-8620-421d-bb0c-491689b99738",
   "metadata": {},
   "outputs": [],
   "source": [
    "plt.figure(figsize=(8,6))\n",
    "plt.plot(ma_100_days, 'r')\n",
    "plt.plot(data.Close, 'g')\n",
    "plt.show()"
   ]
  },
  {
   "cell_type": "code",
   "execution_count": null,
   "id": "4e86fb81-748e-45b9-b913-04bfc33465f6",
   "metadata": {},
   "outputs": [],
   "source": [
    "ma_200_days = data.Close.rolling(200).mean()\n",
    "plt.figure(figsize=(8,6))\n",
    "plt.plot(ma_100_days, 'r')\n",
    "plt.plot(ma_200_days, 'b')\n",
    "plt.plot(data.Close, 'g')\n",
    "plt.show()"
   ]
  },
  {
   "cell_type": "code",
   "execution_count": null,
   "id": "00a6639a-ec99-4f7d-88d3-faa3bf63cd9a",
   "metadata": {},
   "outputs": [],
   "source": [
    " data.dropna(inplace = True)"
   ]
  },
  {
   "cell_type": "code",
   "execution_count": null,
   "id": "6c4b445c-4072-45de-a1a9-ecae3bc5188f",
   "metadata": {},
   "outputs": [],
   "source": [
    "train_data = pd.DataFrame(data.Close[0: int(len(data) * 0.8)])\n",
    "test_data = pd.DataFrame(data.Close[int(len(data)*0.80): len(data)])"
   ]
  },
  {
   "cell_type": "code",
   "execution_count": null,
   "id": "4bad1f9d-d80b-4bd8-a5e9-fad22e4225a0",
   "metadata": {},
   "outputs": [],
   "source": [
    " train_data.shape[0]"
   ]
  },
  {
   "cell_type": "code",
   "execution_count": null,
   "id": "c03db5ee-90ad-4f22-99c9-d1f5b4f31aed",
   "metadata": {},
   "outputs": [],
   "source": [
    " test_data.shape[0]"
   ]
  },
  {
   "cell_type": "code",
   "execution_count": null,
   "id": "0fa930a3-aeff-46b8-afa0-abc326ee3061",
   "metadata": {},
   "outputs": [],
   "source": [
    "from sklearn.preprocessing import MinMaxScaler\n",
    "Scaler = MinMaxScaler(feature_range = (0,1))"
   ]
  },
  {
   "cell_type": "code",
   "execution_count": null,
   "id": "4991a851-e5f7-43de-81a4-410f9af168f8",
   "metadata": {},
   "outputs": [],
   "source": [
    "train_data_scale = scaler.fit_transform(train_data)"
   ]
  },
  {
   "cell_type": "code",
   "execution_count": null,
   "id": "22d58c6a-c357-4f1e-9780-b3d543cd37cd",
   "metadata": {},
   "outputs": [],
   "source": [
    "x = []\n",
    "y = []\n",
    "\n",
    "for i in range(100, train_data_scale.shape[0]):\n",
    "    x.append(train_data_scale[i-100 : i])\n",
    "    y.append(train_data_scale[i,0])"
   ]
  },
  {
   "cell_type": "code",
   "execution_count": null,
   "id": "011be208-65cd-45c6-8f13-a47c7e20ba1a",
   "metadata": {},
   "outputs": [],
   "source": [
    "x,y = np.array(x), np.array(y)"
   ]
  },
  {
   "cell_type": "code",
   "execution_count": null,
   "id": "dcc0f886-09a9-4d77-90f3-ef5db6aa063c",
   "metadata": {},
   "outputs": [],
   "source": [
    "from keras.layers import Dense, Dropout, LSTM\n",
    "from keras.models import Sequential "
   ]
  },
  {
   "cell_type": "code",
   "execution_count": null,
   "id": "f8b51190-2493-4009-9702-a4d723c7ddb1",
   "metadata": {},
   "outputs": [],
   "source": [
    "model = Sequential()\n",
    "model.add(LSTM(units = 50 , activation = 'relu' ,return_sequences = True,\n",
    "             input_shape = ((x.shape[1],1))))\n",
    "model.add(Dropout(.2))\n",
    "model.add(LSTM(units = 60 , activation = 'relu', return_sequences = True))\n",
    "model.add(Dropout(0.3))\n",
    "\n",
    "model.add(LSTM(units = 80, activation = 'relu', return_sequences = True))\n",
    "model.add(Dropout(0.3))\n",
    "\n",
    "model.add(LSTM(units = 120, activation = 'relu'))\n",
    "model.add(Dropout(0.5))\n",
    "\n",
    "model.add(Dense(units = 1))\n",
    "\n",
    "\n",
    "             "
   ]
  },
  {
   "cell_type": "code",
   "execution_count": null,
   "id": "ec2f2a36-82a6-4007-851c-998370a07742",
   "metadata": {},
   "outputs": [],
   "source": [
    "model.compile(optimizer = 'adam', loss = 'mean_squared_error')"
   ]
  },
  {
   "cell_type": "code",
   "execution_count": null,
   "id": "24816c98-2ab5-4cc2-9238-74d8bc3520a6",
   "metadata": {},
   "outputs": [],
   "source": [
    "model.fit(x,y,epochs = 50 , batch_size = 32, verbose = 1)"
   ]
  },
  {
   "cell_type": "code",
   "execution_count": null,
   "id": "73fbe06d-c72d-4703-ba67-63a3789fcb11",
   "metadata": {},
   "outputs": [],
   "source": [
    "model.summary()"
   ]
  },
  {
   "cell_type": "code",
   "execution_count": null,
   "id": "20d158aa-cdd8-42c9-92a0-51310cf5ca0c",
   "metadata": {},
   "outputs": [],
   "source": [
    "pst_100_days = train_data.tail(100)"
   ]
  },
  {
   "cell_type": "code",
   "execution_count": null,
   "id": "4558b2a7-be81-4cbd-8337-5110ae579d00",
   "metadata": {},
   "outputs": [],
   "source": [
    "test_data = pd.concat([pst_100_days, test_data], ignore_index= True)"
   ]
  },
  {
   "cell_type": "code",
   "execution_count": null,
   "id": "56db4be9-92ec-434f-8ed3-02d0329984c2",
   "metadata": {},
   "outputs": [],
   "source": [
    "test_data_scale = scaler.fit_transform(test_data)"
   ]
  },
  {
   "cell_type": "code",
   "execution_count": null,
   "id": "6fd5bfea-3e89-4630-80b3-7e71dd6e520b",
   "metadata": {},
   "outputs": [],
   "source": [
    "test_data_scale"
   ]
  },
  {
   "cell_type": "code",
   "execution_count": null,
   "id": "d809b8c8-b8b4-4252-9383-22e0c6a70e1d",
   "metadata": {},
   "outputs": [],
   "source": [
    "x = []\n",
    "y = []\n",
    "\n",
    "for i in range(100, test_data_scale.shape[0]):\n",
    "    x.append(test_data_scale[i-100 : i])\n",
    "    y.append(test_data_scale[i,0])\n",
    "\n",
    "x,y = np.array(x), np.array(y)"
   ]
  },
  {
   "cell_type": "code",
   "execution_count": null,
   "id": "b8908679-e8db-4c29-9318-202e80508874",
   "metadata": {},
   "outputs": [],
   "source": [
    "y_predict = model.predict(x)"
   ]
  },
  {
   "cell_type": "code",
   "execution_count": null,
   "id": "4b4d0a77-07b1-4a41-92d8-dcb9e15c284b",
   "metadata": {},
   "outputs": [],
   "source": [
    "y_predict"
   ]
  },
  {
   "cell_type": "code",
   "execution_count": null,
   "id": "435d176b-2f85-40f3-81ca-03de54e7b2aa",
   "metadata": {},
   "outputs": [],
   "source": [
    "scale = 1/scaler.scale_"
   ]
  },
  {
   "cell_type": "code",
   "execution_count": null,
   "id": "5eac524f-e766-4aaf-95e3-4e2a9b18f410",
   "metadata": {},
   "outputs": [],
   "source": []
  }
 ],
 "metadata": {
  "kernelspec": {
   "display_name": "Python 3 (ipykernel)",
   "language": "python",
   "name": "python3"
  },
  "language_info": {
   "codemirror_mode": {
    "name": "ipython",
    "version": 3
   },
   "file_extension": ".py",
   "mimetype": "text/x-python",
   "name": "python",
   "nbconvert_exporter": "python",
   "pygments_lexer": "ipython3",
   "version": "3.11.7"
  }
 },
 "nbformat": 4,
 "nbformat_minor": 5
}
